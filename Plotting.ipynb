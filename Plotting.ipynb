{
 "cells": [
  {
   "cell_type": "code",
   "execution_count": null,
   "id": "cd0215d8-64ea-4e00-a4ac-d90b8bb29b27",
   "metadata": {},
   "outputs": [],
   "source": [
    "import pandas as pd\n",
    "import json\n",
    "import plotly.express as px\n",
    "from plotly.subplots import make_subplots\n",
    "import plotly.graph_objects as go\n",
    "\n",
    "def make_plot(file, x_count=None):\n",
    "    with open(file, \"r\") as f:\n",
    "        data = json.load(f)\n",
    "\n",
    "    print(f\"epoch_mstimes has {len(data['epoch_mstimes'])} values\")\n",
    "    print(f\"epoch_loss has {len(data['epoch_loss'])} values\")\n",
    "    print(f\"para_mstimes has {len(data['para_mstimes'])} values\")\n",
    "    print(f\"para_values has {len(data['para_values'])} values\")\n",
    "    \n",
    "    df_loss = pd.DataFrame({\n",
    "        \"t\": data['epoch_mstimes'][:x_count if x_count else len(data['epoch_mstimes'])],\n",
    "        \"L\": data['epoch_loss'][:x_count if x_count else len(data['epoch_loss'])]\n",
    "    })\n",
    "    \n",
    "    df_para = pd.DataFrame({\n",
    "        \"t\": data['para_mstimes'][:x_count if x_count else len(data['para_mstimes'])],\n",
    "        \"m\": data['para_values'][:x_count if x_count else len(data['para_values'])]\n",
    "    })\n",
    "\n",
    "    fig = make_subplots(specs=[[{\"secondary_y\": True}]])\n",
    "    # fig = make_subplots(rows=2, cols=1)\n",
    "\n",
    "    figs = [\n",
    "        px.line(df_loss, x=\"t\", y=\"L\"),\n",
    "        px.scatter(df_para, x=\"t\", y=\"m\")\n",
    "    ]\n",
    "    \n",
    "    for tr in figs[0][\"data\"]:\n",
    "        fig.add_trace(tr, secondary_y=False)\n",
    "    \n",
    "    for tr in figs[1][\"data\"]:\n",
    "        fig.add_trace(tr, secondary_y=True)\n",
    "    \n",
    "    fig.show()"
   ]
  },
  {
   "cell_type": "code",
   "execution_count": null,
   "id": "1cfdd7e5-bbab-4285-a725-36cbdd794238",
   "metadata": {},
   "outputs": [],
   "source": [
    "make_plot(\"data6.json\")"
   ]
  },
  {
   "cell_type": "code",
   "execution_count": null,
   "id": "fc8780c2-9d07-4006-b7d2-b693e557df50",
   "metadata": {},
   "outputs": [],
   "source": [
    "make_plot(\"data8.json\")"
   ]
  },
  {
   "cell_type": "code",
   "execution_count": null,
   "id": "a641dcdd-6cc2-4cb1-b4d6-45149a082789",
   "metadata": {},
   "outputs": [],
   "source": []
  }
 ],
 "metadata": {
  "language_info": {
   "name": "python"
  }
 },
 "nbformat": 4,
 "nbformat_minor": 5
}
